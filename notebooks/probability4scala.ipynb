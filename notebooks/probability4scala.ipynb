{
 "cells": [
  {
   "cell_type": "code",
   "execution_count": 1,
   "metadata": {},
   "outputs": [
    {
     "data": {
      "text/plain": [
       "\u001b[32mimport \u001b[39m\u001b[36m$repo.$                   \n",
       "\u001b[39m\n",
       "\u001b[32mimport \u001b[39m\u001b[36m$ivy.$                                                          \u001b[39m"
      ]
     },
     "execution_count": 1,
     "metadata": {},
     "output_type": "execute_result"
    }
   ],
   "source": [
    "import $repo.`https://jitpack.io`\n",
    "import $ivy.`com.github.markblokpoel:probability4scala:master-SNAPSHOT`"
   ]
  },
  {
   "cell_type": "code",
   "execution_count": 2,
   "metadata": {},
   "outputs": [
    {
     "data": {
      "text/plain": [
       "\u001b[32mimport \u001b[39m\u001b[36mcom.markblokpoel.probability4scala._\u001b[39m"
      ]
     },
     "execution_count": 2,
     "metadata": {},
     "output_type": "execute_result"
    }
   ],
   "source": [
    "import com.markblokpoel.probability4scala._"
   ]
  },
  {
   "cell_type": "code",
   "execution_count": 3,
   "metadata": {},
   "outputs": [
    {
     "data": {
      "text/plain": [
       "\u001b[36mdom\u001b[39m: \u001b[32mSet\u001b[39m[\u001b[32mString\u001b[39m] = \u001b[33mSet\u001b[39m(\u001b[32m\"heads\"\u001b[39m, \u001b[32m\"tails\"\u001b[39m)\n",
       "\u001b[36mvalues\u001b[39m: \u001b[32mMap\u001b[39m[\u001b[32mString\u001b[39m, \u001b[32mDouble\u001b[39m] = \u001b[33mMap\u001b[39m(\u001b[32m\"heads\"\u001b[39m -> \u001b[32m0.5\u001b[39m, \u001b[32m\"tails\"\u001b[39m -> \u001b[32m0.5\u001b[39m)\n",
       "\u001b[36mdist\u001b[39m: \u001b[32mDistribution\u001b[39m[\u001b[32mString\u001b[39m] = \u001b[33mDistribution\u001b[39m(\n",
       "  \u001b[33mSet\u001b[39m(\u001b[32m\"heads\"\u001b[39m, \u001b[32m\"tails\"\u001b[39m),\n",
       "  \u001b[33mMap\u001b[39m(\u001b[32m\"heads\"\u001b[39m -> 0.5, \u001b[32m\"tails\"\u001b[39m -> 0.5)\n",
       ")"
      ]
     },
     "execution_count": 3,
     "metadata": {},
     "output_type": "execute_result"
    }
   ],
   "source": [
    "val dom = Set(\"heads\", \"tails\")\n",
    "val values = Map(\n",
    "    \"heads\" -> 0.5,\n",
    "    \"tails\" -> 0.5\n",
    ")\n",
    "\n",
    "val dist = Distribution(dom, values)"
   ]
  },
  {
   "cell_type": "code",
   "execution_count": 4,
   "metadata": {},
   "outputs": [
    {
     "data": {
      "text/plain": [
       "\u001b[36msamples\u001b[39m: \u001b[32mcollection\u001b[39m.\u001b[32mimmutable\u001b[39m.\u001b[32mIndexedSeq\u001b[39m[\u001b[32mString\u001b[39m] = \u001b[33mVector\u001b[39m(\n",
       "  \u001b[32m\"tails\"\u001b[39m,\n",
       "  \u001b[32m\"heads\"\u001b[39m,\n",
       "  \u001b[32m\"tails\"\u001b[39m,\n",
       "  \u001b[32m\"heads\"\u001b[39m,\n",
       "  \u001b[32m\"heads\"\u001b[39m,\n",
       "  \u001b[32m\"tails\"\u001b[39m,\n",
       "  \u001b[32m\"heads\"\u001b[39m,\n",
       "  \u001b[32m\"heads\"\u001b[39m,\n",
       "  \u001b[32m\"heads\"\u001b[39m,\n",
       "  \u001b[32m\"heads\"\u001b[39m\n",
       ")"
      ]
     },
     "execution_count": 4,
     "metadata": {},
     "output_type": "execute_result"
    }
   ],
   "source": [
    "val samples = for(_ <- 0 until 10) yield dist.sample"
   ]
  },
  {
   "cell_type": "code",
   "execution_count": 5,
   "metadata": {},
   "outputs": [
    {
     "name": "stdout",
     "output_type": "stream",
     "text": [
      "heads 0.5000\t##########\n",
      "tails 0.5000\t##########\n"
     ]
    }
   ],
   "source": [
    "dist.hist"
   ]
  },
  {
   "cell_type": "code",
   "execution_count": null,
   "metadata": {},
   "outputs": [],
   "source": []
  }
 ],
 "metadata": {
  "kernelspec": {
   "display_name": "Scala 2.12",
   "language": "scala",
   "name": "scala212"
  },
  "language_info": {
   "codemirror_mode": "text/x-scala",
   "file_extension": ".sc",
   "mimetype": "text/x-scala",
   "name": "scala",
   "nbconvert_exporter": "script",
   "version": "2.12.12"
  }
 },
 "nbformat": 4,
 "nbformat_minor": 4
}
